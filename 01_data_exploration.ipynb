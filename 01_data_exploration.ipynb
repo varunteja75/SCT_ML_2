{
 "cells": [
  {
   "cell_type": "code",
   "execution_count": null,
   "id": "bde75740",
   "metadata": {
    "vscode": {
     "languageId": "plaintext"
    }
   },
   "outputs": [],
   "source": [
    "# Cell 1: Setup\n",
    "import sys\n",
    "sys.path.append('../src')\n",
    "import pandas as pd\n",
    "import numpy as np\n",
    "import matplotlib.pyplot as plt\n",
    "import seaborn as sns\n",
    "from src.data_generator import generate_customer_data\n",
    "\n",
    "# Cell 2: Generate and explore data\n",
    "data = generate_customer_data(n_customers=1000)\n",
    "print(\"Dataset shape:\", data.shape)\n",
    "print(\"\\nDataset info:\")\n",
    "data.info()\n",
    "\n",
    "# Cell 3: Statistical summary\n",
    "data.describe()\n",
    "\n",
    "# Cell 4: Data visualization\n",
    "fig, axes = plt.subplots(2, 2, figsize=(15, 10))\n",
    "data['total_spent'].hist(ax=axes[0,0], bins=30)\n",
    "axes[0,0].set_title('Total Spent Distribution')\n",
    "# ... more plots"
   ]
  }
 ],
 "metadata": {
  "language_info": {
   "name": "python"
  }
 },
 "nbformat": 4,
 "nbformat_minor": 5
}
